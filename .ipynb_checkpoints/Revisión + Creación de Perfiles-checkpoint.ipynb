{
 "cells": [
  {
   "cell_type": "code",
   "execution_count": 3,
   "id": "53a675e6",
   "metadata": {},
   "outputs": [
    {
     "name": "stderr",
     "output_type": "stream",
     "text": [
      "C:\\Users\\maria\\AppData\\Local\\Temp\\ipykernel_26864\\3459188742.py:21: SettingWithCopyWarning: \n",
      "A value is trying to be set on a copy of a slice from a DataFrame.\n",
      "Try using .loc[row_indexer,col_indexer] = value instead\n",
      "\n",
      "See the caveats in the documentation: https://pandas.pydata.org/pandas-docs/stable/user_guide/indexing.html#returning-a-view-versus-a-copy\n",
      "  data_mod['age_range'] = pd.cut(data_mod['Age at enrollment'], bins=bins, labels=labels, right=False)\n",
      "C:\\Users\\maria\\AppData\\Local\\Temp\\ipykernel_26864\\3459188742.py:26: SettingWithCopyWarning: \n",
      "A value is trying to be set on a copy of a slice from a DataFrame.\n",
      "Try using .loc[row_indexer,col_indexer] = value instead\n",
      "\n",
      "See the caveats in the documentation: https://pandas.pydata.org/pandas-docs/stable/user_guide/indexing.html#returning-a-view-versus-a-copy\n",
      "  data_mod['approved_sem1_range'] = pd.cut(data_mod['Curricular units 1st sem (approved)'], bins=bins, labels=labels, right=False)\n",
      "C:\\Users\\maria\\AppData\\Local\\Temp\\ipykernel_26864\\3459188742.py:31: SettingWithCopyWarning: \n",
      "A value is trying to be set on a copy of a slice from a DataFrame.\n",
      "Try using .loc[row_indexer,col_indexer] = value instead\n",
      "\n",
      "See the caveats in the documentation: https://pandas.pydata.org/pandas-docs/stable/user_guide/indexing.html#returning-a-view-versus-a-copy\n",
      "  data_mod['grade_sem1_range'] = pd.cut(data_mod['Curricular units 1st sem (grade)'], bins=bins, labels=labels, right=False)\n",
      "C:\\Users\\maria\\AppData\\Local\\Temp\\ipykernel_26864\\3459188742.py:36: SettingWithCopyWarning: \n",
      "A value is trying to be set on a copy of a slice from a DataFrame.\n",
      "Try using .loc[row_indexer,col_indexer] = value instead\n",
      "\n",
      "See the caveats in the documentation: https://pandas.pydata.org/pandas-docs/stable/user_guide/indexing.html#returning-a-view-versus-a-copy\n",
      "  data_mod['grade_admission_range'] = pd.cut(data_mod['Admission grade'], bins=bins, labels=labels, right=False)\n"
     ]
    }
   ],
   "source": [
    "import pandas as pd\n",
    "import flask\n",
    "from ucimlrepo import fetch_ucirepo\n",
    "\n",
    "# fetch dataset \n",
    "predict_students_dropout_and_academic_success = fetch_ucirepo(id=697) \n",
    "  \n",
    "# data (as pandas dataframes) \n",
    "X = predict_students_dropout_and_academic_success.data.features \n",
    "y = predict_students_dropout_and_academic_success.data.targets \n",
    "\n",
    "data=pd.DataFrame.from_dict(predict_students_dropout_and_academic_success['data']['original'])\n",
    "#Tratamiento de los datos\n",
    "\n",
    "#Eliminar todas las observaciones donde el Target sea 'Enrolled'\n",
    "data_mod = data[data['Target'] != 'Enrolled']\n",
    "\n",
    "#Categorizar variable Age of Enrollment\n",
    "bins = [0, 19, 21, 24, 31, 41, float('inf')]  # Límites de los rangos\n",
    "labels = [0, 1, 2, 3, 4, 5] \n",
    "data_mod['age_range'] = pd.cut(data_mod['Age at enrollment'], bins=bins, labels=labels, right=False)\n",
    "\n",
    "#Categorizar variable Curricular units 1st sem (approved)\n",
    "bins = [0, 3, 6, 11, float('inf')]  # Límites de los rangos\n",
    "labels = [0, 1, 2, 3] \n",
    "data_mod['approved_sem1_range'] = pd.cut(data_mod['Curricular units 1st sem (approved)'], bins=bins, labels=labels, right=False)\n",
    "\n",
    "#Categorizar variable Curricular units 1st sem (grade)\n",
    "bins = [0, 10,11, 12,13, 14,16,float('inf')]  # Límites de los rangos\n",
    "labels = [0,1,2, 3,4,5,6] \n",
    "data_mod['grade_sem1_range'] = pd.cut(data_mod['Curricular units 1st sem (grade)'], bins=bins, labels=labels, right=False)\n",
    "\n",
    "#Categorizar variable Admission grade\n",
    "bins = [0, 100,115, 130,145, 160,float('inf')]  # Límites de los rangos\n",
    "labels = [0, 1,2,3,4,5] \n",
    "data_mod['grade_admission_range'] = pd.cut(data_mod['Admission grade'], bins=bins, labels=labels, right=False)\n",
    "\n",
    "\n",
    "data_sel = data_mod[['Gender', 'Displaced', 'Scholarship holder', 'Debtor',\n",
    "                           'Tuition fees up to date','age_range','approved_sem1_range','grade_admission_range','Target']]\n"
   ]
  },
  {
   "cell_type": "code",
   "execution_count": 4,
   "id": "6353ee48",
   "metadata": {},
   "outputs": [],
   "source": [
    "import pandas as pd\n",
    "import flask\n",
    "from ucimlrepo import fetch_ucirepo"
   ]
  },
  {
   "cell_type": "code",
   "execution_count": 28,
   "id": "792d3556",
   "metadata": {},
   "outputs": [],
   "source": [
    "#dfUniversidad = pd.read_csv('baseUniversidad.csv')\n",
    "\n",
    "# Los guardamos como un diccionario\n",
    "datosUniversidad = {\n",
    "    'nombre': ['Juan Pablo Ríos Hernández', 'Samuel Felipe Ríos Parra', 'Felipe Sanabria Trimiño', 'Andrés Felipe Sanabria Cotrino', 'Mayerli Andrea Velandia León','María Gabriela Urango Llorente','Estudiante Promedio'],\n",
    "    'Codigo':[201821819, 201821820,201821926,201815259,201817500,202013781,0],\n",
    "    'Gender':[1,1,1,1,0,0,data_sel['Gender'].value_counts().idxmax()],\n",
    "    'Displaced':[0,0,1,0,0,1,data_sel['Displaced'].value_counts().idxmax()],\n",
    "    'Scholarship holder':[0,0,0,0,0,1,data_sel['Scholarship holder'].value_counts().idxmax()],\n",
    "    'Debtor':[0,0,0,0,0,0,data_sel['Debtor'].value_counts().idxmax()],\n",
    "    'Tuition fees up to date':[1,1,1,1,1,1,data_sel['Tuition fees up to date'].value_counts().idxmax()],\n",
    "    'age_range':['Rango 16-18','Rango 16-18','Rango 16-18','Rango 16-18','Rango 16-18','Rango 16-18',data_sel['age_range'].value_counts().idxmax()],\n",
    "    'approved_sem1_range':['Rango >10','Rango 6-10','Rango 3-5','Rango >10','Rango 6-10','Rango 0-2',data_sel['approved_sem1_range'].value_counts().idxmax()],\n",
    "    'grade_admission_range':['Rango 130-145','Rango 100-115','Rango 145-160','Rango 130-145','Rango 145-160','Rango 100-115',data_sel['grade_admission_range'].value_counts().idxmax()],\n",
    "    'imagen': [\n",
    "        \"https://img.freepik.com/free-photo/young-bearded-man-with-striped-shirt_273609-5677.jpg?w=740&t=st=1695773151~exp=1695773751~hmac=c5e7f88a86b317d607c4521d19c82847adcd45cb57a4214c7dd9f9f7c5a48e86\",\n",
    "        \"https://img.freepik.com/free-photo/medium-shot-smiley-guy-with-crossed-arms_23-2148227980.jpg?w=740&t=st=1695773183~exp=1695773783~hmac=7ad00f735040d1e74ed3089f70072fefc083c2143e99802e621aaf430aa7d1f1\",\n",
    "        \"https://img.freepik.com/free-photo/happy-man_1368-1596.jpg?w=360&t=st=1695773202~exp=1695773802~hmac=8d3a6a8ed84d6e3918c304ccf690356643eb2a4c7042e1be0bf2e72331b92dca\",\n",
    "        \"https://img.freepik.com/free-photo/young-handsome-guy-carrying-boxes_144627-25941.jpg?w=360&t=st=1695773260~exp=1695773860~hmac=df2a0ace2b2e03b6316b07f72fd344c2e9dbba229e1ed08f0e5f6b2906c0cfa6\",\n",
    "        \"https://img.freepik.com/free-photo/portrait-beautiful-woman-posing_23-2148723157.jpg?w=740&t=st=1695773283~exp=1695773883~hmac=93b9536b0392f56efc9804792a5a03de5de80e4d572c833eff5498630e4794c1\",\n",
    "        \"https://img.freepik.com/free-photo/beautiful-smiling-woman-with-long-hair-standing-against-blue-background_662251-521.jpg?w=740&t=st=1695773296~exp=1695773896~hmac=8836535e3a5128da8634054cfbb2236505b72d6c6b42a5beb43319092394de52\",\n",
    "        \"\"\n",
    "    ],\n",
    "}\n"
   ]
  },
  {
   "cell_type": "code",
   "execution_count": 29,
   "id": "18e290f7",
   "metadata": {},
   "outputs": [
    {
     "data": {
      "text/plain": [
       "5"
      ]
     },
     "execution_count": 29,
     "metadata": {},
     "output_type": "execute_result"
    }
   ],
   "source": [
    "dfUniversidad = pd.DataFrame(datosUniversidad)\n",
    "datosUniversidad['Codigo'].index(202013781)"
   ]
  },
  {
   "cell_type": "code",
   "execution_count": 30,
   "id": "9e5e36bc",
   "metadata": {},
   "outputs": [
    {
     "name": "stdout",
     "output_type": "stream",
     "text": [
      "5\n"
     ]
    }
   ],
   "source": [
    "print(datosUniversidad['Codigo'].index(202013781))"
   ]
  },
  {
   "cell_type": "code",
   "execution_count": 31,
   "id": "2fb269fe",
   "metadata": {},
   "outputs": [],
   "source": [
    "data_sel = pd.read_csv('datasel.csv')"
   ]
  },
  {
   "cell_type": "code",
   "execution_count": 32,
   "id": "45920b32",
   "metadata": {},
   "outputs": [],
   "source": [
    "codigo = 202013781"
   ]
  },
  {
   "cell_type": "code",
   "execution_count": 33,
   "id": "a34595ab",
   "metadata": {},
   "outputs": [
    {
     "data": {
      "text/html": [
       "<div>\n",
       "<style scoped>\n",
       "    .dataframe tbody tr th:only-of-type {\n",
       "        vertical-align: middle;\n",
       "    }\n",
       "\n",
       "    .dataframe tbody tr th {\n",
       "        vertical-align: top;\n",
       "    }\n",
       "\n",
       "    .dataframe thead th {\n",
       "        text-align: right;\n",
       "    }\n",
       "</style>\n",
       "<table border=\"1\" class=\"dataframe\">\n",
       "  <thead>\n",
       "    <tr style=\"text-align: right;\">\n",
       "      <th></th>\n",
       "      <th>nombre</th>\n",
       "      <th>Codigo</th>\n",
       "      <th>Gender</th>\n",
       "      <th>Displaced</th>\n",
       "      <th>Scholarship holder</th>\n",
       "      <th>Debtor</th>\n",
       "      <th>Tuition fees up to date</th>\n",
       "      <th>age_range</th>\n",
       "      <th>approved_sem1_range</th>\n",
       "      <th>grade_admission_range</th>\n",
       "      <th>imagen</th>\n",
       "    </tr>\n",
       "  </thead>\n",
       "  <tbody>\n",
       "    <tr>\n",
       "      <th>5</th>\n",
       "      <td>María Gabriela Urango Llorente</td>\n",
       "      <td>202013781</td>\n",
       "      <td>0</td>\n",
       "      <td>1</td>\n",
       "      <td>1</td>\n",
       "      <td>0</td>\n",
       "      <td>1</td>\n",
       "      <td>Rango 16-18</td>\n",
       "      <td>Rango 0-2</td>\n",
       "      <td>Rango 100-115</td>\n",
       "      <td>https://img.freepik.com/free-photo/beautiful-s...</td>\n",
       "    </tr>\n",
       "  </tbody>\n",
       "</table>\n",
       "</div>"
      ],
      "text/plain": [
       "                           nombre     Codigo  Gender  Displaced  \\\n",
       "5  María Gabriela Urango Llorente  202013781       0          1   \n",
       "\n",
       "   Scholarship holder  Debtor  Tuition fees up to date    age_range  \\\n",
       "5                   1       0                        1  Rango 16-18   \n",
       "\n",
       "  approved_sem1_range grade_admission_range  \\\n",
       "5           Rango 0-2         Rango 100-115   \n",
       "\n",
       "                                              imagen  \n",
       "5  https://img.freepik.com/free-photo/beautiful-s...  "
      ]
     },
     "execution_count": 33,
     "metadata": {},
     "output_type": "execute_result"
    }
   ],
   "source": [
    "estudiante = dfUniversidad[dfUniversidad['Codigo'] == codigo]\n",
    "estudiante"
   ]
  },
  {
   "cell_type": "code",
   "execution_count": 22,
   "id": "2a23134f",
   "metadata": {},
   "outputs": [
    {
     "data": {
      "text/plain": [
       "('María Gabriela Urango Llorente',\n",
       " 'https://img.freepik.com/free-photo/beautiful-smiling-woman-with-long-hair-standing-against-blue-background_662251-521.jpg?w=740&t=st=1695773296~exp=1695773896~hmac=8836535e3a5128da8634054cfbb2236505b72d6c6b42a5beb43319092394de52')"
      ]
     },
     "execution_count": 22,
     "metadata": {},
     "output_type": "execute_result"
    }
   ],
   "source": [
    "nombre = estudiante.iloc[0]['nombre']\n",
    "imagen = estudiante.iloc[0]['imagen']\n",
    "nombre,imagen"
   ]
  },
  {
   "cell_type": "code",
   "execution_count": 34,
   "id": "ab8ac4d7",
   "metadata": {},
   "outputs": [
    {
     "data": {
      "text/plain": [
       "{'Displaced': 1,\n",
       " 'Scholarship holder': 1,\n",
       " 'Debtor': 0,\n",
       " 'Tuition fees up to date': 1,\n",
       " 'age_range': 'Rango 16-18',\n",
       " 'approved_sem1_range': 'Rango 0-2',\n",
       " 'grade_admission_range': 'Rango 100-115'}"
      ]
     },
     "execution_count": 34,
     "metadata": {},
     "output_type": "execute_result"
    }
   ],
   "source": [
    "col = datosUniversidad['Codigo'].index(codigo)\n",
    "estudiante =  {\n",
    "    'Displaced':datosUniversidad['Displaced'][col],\n",
    "    'Scholarship holder':datosUniversidad['Scholarship holder'][col],\n",
    "    'Debtor':datosUniversidad['Debtor'][col],\n",
    "    'Tuition fees up to date':datosUniversidad['Tuition fees up to date'][col],\n",
    "    'age_range':datosUniversidad['age_range'][col],\n",
    "    'approved_sem1_range':datosUniversidad['approved_sem1_range'][col],\n",
    "    'grade_admission_range':datosUniversidad['grade_admission_range'][col],\n",
    "}\n",
    "estudiante"
   ]
  },
  {
   "cell_type": "code",
   "execution_count": null,
   "id": "a7717924",
   "metadata": {},
   "outputs": [],
   "source": [
    "# Estimación de la Red\n",
    "import plotly.express as px\n",
    "from pgmpy.inference import VariableElimination\n",
    "from pgmpy.models import BayesianNetwork\n",
    "from pgmpy.factors.discrete import TabularCPD\n",
    "from pgmpy.estimators import MaximumLikelihoodEstimator\n",
    "from pgmpy.models import BayesianNetwork\n",
    "from pgmpy.sampling import BayesianModelSampling\n",
    "import pandas as pd\n",
    "import random\n",
    "from sklearn.metrics import accuracy_score\n",
    "from sklearn.metrics import confusion_matrix\n",
    "from sklearn.model_selection import train_test_split\n",
    "import numpy as np\n",
    "from ucimlrepo import fetch_ucirepo\n",
    "from pgmpy.readwrite import BIFWriter\n",
    "import dash\n",
    "from dash import dcc  # dash core components\n",
    "from dash import html # dash html components\n",
    "import plotly.express as px\n",
    "import pandas as pd\n",
    "from dash.dependencies import Input, Output, State\n",
    "import plotly.graph_objs as go\n",
    "# Importar datos\n",
    "predict_students_dropout_and_academic_success = fetch_ucirepo(id=697) \n",
    "  \n",
    "# data (as pandas dataframes) \n",
    "X = predict_students_dropout_and_academic_success.data.features \n",
    "y = predict_students_dropout_and_academic_success.data.targets \n",
    "\n",
    "data=pd.DataFrame.from_dict(predict_students_dropout_and_academic_success['data']['original'])\n",
    "#Tratamiento de los datos\n",
    "\n",
    "#Eliminar todas las observaciones donde el Target sea 'Enrolled'\n",
    "data_mod = data[data['Target'] != 'Enrolled']\n",
    "\n",
    "#Categorizar variable Age of Enrollment\n",
    "bins = [0, 19, 21, 24, 31, 41, float('inf')]  # Límites de los rangos\n",
    "labels = ['Rango 16-18', 'Rango 19-20', 'Rango 21-23', 'Rango 24-30', 'Rango 31-40', 'Rango >41'] \n",
    "data_mod['age_range'] = pd.cut(data_mod['Age at enrollment'], bins=bins, labels=labels, right=False)\n",
    "\n",
    "#Categorizar variable Curricular units 1st sem (approved)\n",
    "bins = [0, 3, 6, 11, float('inf')]  # Límites de los rangos\n",
    "labels = ['Rango 0-2', 'Rango 3-5', 'Rango 6-10', 'Rango >10'] \n",
    "data_mod['approved_sem1_range'] = pd.cut(data_mod['Curricular units 1st sem (approved)'], bins=bins, labels=labels, right=False)\n",
    "\n",
    "#Categorizar variable Curricular units 1st sem (grade)\n",
    "bins = [0, 10,11, 12,13, 14,16,float('inf')]  # Límites de los rangos\n",
    "labels = ['Rango 0-10', 'Rango 10-11','Rango 11-12', 'Rango 12-13', 'Rango 13-14','Rango 14-16', 'Rango >16'] \n",
    "data_mod['grade_sem1_range'] = pd.cut(data_mod['Curricular units 1st sem (grade)'], bins=bins, labels=labels, right=False)\n",
    "\n",
    "#Categorizar variable Admission grade\n",
    "bins = [0, 100,115, 130,145, 160,float('inf')]  # Límites de los rangos\n",
    "labels = ['Rango 0-100', 'Rango 100-115','Rango 115-130', 'Rango 130-145', 'Rango 145-160', 'Rango >160'] \n",
    "data_mod['grade_admission_range'] = pd.cut(data_mod['Admission grade'], bins=bins, labels=labels, right=False)\n",
    "\n",
    "# Decidimos las variables a incluir en el modelo\n",
    "variables_seleccionadas = ['Gender', 'Displaced', 'Scholarship holder', 'Debtor',\n",
    "                           'Tuition fees up to date','age_range','approved_sem1_range','grade_admission_range','Target']\n",
    "# Usamos únicamente las variables seleccionadas de la base de datos\n",
    "data_sel = data_mod[variables_seleccionadas]\n",
    "\n",
    "# Creamos el modelo\n",
    "model = BayesianNetwork([(\"Gender\", \"Target\"),(\"Displaced\",\"Target\"),\n",
    "                         (\"Scholarship holder\",\"Target\"),(\"Debtor\",\"Target\"),(\"Tuition fees up to date\",\"Target\"),\n",
    "                         (\"age_range\",\"Target\"),(\"approved_sem1_range\",\"Target\"),(\"grade_admission_range\",\"approved_sem1_range\")])\n",
    "#Dividir el dataset entre prueba y entrenamiento\n",
    "train, test = train_test_split(data_sel, test_size=0.2, random_state=98)\n",
    "emv = MaximumLikelihoodEstimator(model=model, data=train)\n",
    "model.fit(data=train, estimator = MaximumLikelihoodEstimator)\n",
    "infer = VariableElimination(model)\n"
   ]
  },
  {
   "cell_type": "code",
   "execution_count": 44,
   "id": "316d3b02",
   "metadata": {},
   "outputs": [
    {
     "data": {
      "text/plain": [
       "0.39147153351698805"
      ]
     },
     "execution_count": 44,
     "metadata": {},
     "output_type": "execute_result"
    }
   ],
   "source": [
    "caso = infer.query([\"Target\"], evidence=estudiante)\n",
    "caso.values[0]"
   ]
  },
  {
   "cell_type": "code",
   "execution_count": 45,
   "id": "47a2784b",
   "metadata": {},
   "outputs": [
    {
     "data": {
      "text/plain": [
       "dict"
      ]
     },
     "execution_count": 45,
     "metadata": {},
     "output_type": "execute_result"
    }
   ],
   "source": [
    "type(estudiante)"
   ]
  },
  {
   "cell_type": "code",
   "execution_count": 10,
   "id": "8780b920",
   "metadata": {},
   "outputs": [
    {
     "data": {
      "image/png": "[encoded data removed]",
      "text/plain": [
       "<Figure size 640x480 with 1 Axes>"
      ]
     },
     "execution_count": 10,
     "metadata": {},
     "output_type": "execute_result"
    }
   ],
   "source": [
    "import matplotlib.pyplot as plt\n",
    "\n",
    "# Probabilidades de A y B (valores de ejemplo)\n",
    "probabilidad_A = 0.7\n",
    "probabilidad_B = 0.4\n",
    "\n",
    "# Etiquetas para los eventos A y B\n",
    "eventos = ['A', 'B']\n",
    "\n",
    "# Valores de las probabilidades\n",
    "probabilidades = [probabilidad_A, probabilidad_B]\n",
    "\n",
    "# Crear la figura y los ejes\n",
    "#fig, ax = plt.subplots()\n",
    "\n",
    "#figure, ax = plt.subplots()\n",
    "ax.bar(eventos, probabilidades, color=['blue', 'green'])\n",
    "ax.set_title(f'Comparación de Probabilidades de Deserción - Estudiante común')\n",
    "ax.set_xlabel('Estudiantes')\n",
    "ax.set_ylabel('Probabilidad de Deserción')\n",
    "\n",
    "# Mostrar la gráfica\n",
    "fig"
   ]
  },
  {
   "cell_type": "code",
   "execution_count": 48,
   "id": "f198f162",
   "metadata": {},
   "outputs": [],
   "source": [
    "rangoedad = 'Rango 16-18'\n",
    "gender = 0\n",
    "displaced = 0\n",
    "scholarshipholder = 0\n",
    "debtor = 'NA'\n",
    "tuitionfees = 'NA'\n",
    "approvedcredits = 'NA'\n",
    "gradeadmission = 'NA'"
   ]
  },
  {
   "cell_type": "code",
   "execution_count": 49,
   "id": "3e8e3b5c",
   "metadata": {},
   "outputs": [],
   "source": [
    "    aspirante = {}\n",
    "    if rangoedad != 'NA':\n",
    "        aspirante['age_range'] = rangoedad\n",
    "    if gender != 'NA':\n",
    "        aspirante['Gender'] = gender\n",
    "    if displaced != 'NA':\n",
    "        aspirante['Displaced'] = displaced\n",
    "    if scholarshipholder != 'NA':\n",
    "        aspirante['Scholarship holder'] = scholarshipholder\n",
    "    if debtor != 'NA':\n",
    "        aspirante['Debtor'] = debtor\n",
    "    if tuitionfees != 'NA':\n",
    "        aspirante['Tuition fees up to date'] = tuitionfees\n",
    "    if approvedcredits != 'NA':\n",
    "        aspirante['approved_sem1_rang'] = approvedcredits\n",
    "    if gradeadmission != 'NA':\n",
    "        aspirante['grade_admission_range'] = gradeadmission\n"
   ]
  },
  {
   "cell_type": "code",
   "execution_count": 51,
   "id": "b901d62b",
   "metadata": {},
   "outputs": [
    {
     "data": {
      "text/plain": [
       "0.3174633525221272"
      ]
     },
     "execution_count": 51,
     "metadata": {},
     "output_type": "execute_result"
    }
   ],
   "source": [
    "caso = infer.query([\"Target\"], evidence=aspirante)\n",
    "caso.values[0]"
   ]
  },
  {
   "cell_type": "code",
   "execution_count": 2,
   "id": "4ed69ba1",
   "metadata": {},
   "outputs": [
    {
     "ename": "NameError",
     "evalue": "name 'infer' is not defined",
     "output_type": "error",
     "traceback": [
      "\u001b[1;31m---------------------------------------------------------------------------\u001b[0m",
      "\u001b[1;31mNameError\u001b[0m                                 Traceback (most recent call last)",
      "\u001b[1;32m~\\AppData\\Local\\Temp\\ipykernel_26864\\1019944747.py\u001b[0m in \u001b[0;36m<module>\u001b[1;34m\u001b[0m\n\u001b[0;32m      8\u001b[0m }\n\u001b[0;32m      9\u001b[0m \u001b[1;33m\u001b[0m\u001b[0m\n\u001b[1;32m---> 10\u001b[1;33m \u001b[0mcasoPerfil1\u001b[0m \u001b[1;33m=\u001b[0m \u001b[0minfer\u001b[0m\u001b[1;33m.\u001b[0m\u001b[0mquery\u001b[0m\u001b[1;33m(\u001b[0m\u001b[1;33m[\u001b[0m\u001b[1;34m'Target'\u001b[0m\u001b[1;33m]\u001b[0m\u001b[1;33m,\u001b[0m\u001b[0mevidence\u001b[0m\u001b[1;33m=\u001b[0m \u001b[0mperfil1\u001b[0m\u001b[1;33m)\u001b[0m\u001b[1;33m\u001b[0m\u001b[1;33m\u001b[0m\u001b[0m\n\u001b[0m",
      "\u001b[1;31mNameError\u001b[0m: name 'infer' is not defined"
     ]
    }
   ],
   "source": [
    "# Creación de perfiles\n",
    "perfil1 =  {\n",
    "    'Displaced':1,\n",
    "    'Scholarship holder':0,\n",
    "    'Debtor':1,\n",
    "    'Tuition fees up to date':0,\n",
    "    'age_range':'Rango 16-18',\n",
    "}\n",
    "\n",
    "casoPerfil1 = infer.query(['Target'],evidence= perfil1)"
   ]
  }
 ],
 "metadata": {
  "kernelspec": {
   "display_name": "Python 3 (ipykernel)",
   "language": "python",
   "name": "python3"
  },
  "language_info": {
   "codemirror_mode": {
    "name": "ipython",
    "version": 3
   },
   "file_extension": ".py",
   "mimetype": "text/x-python",
   "name": "python",
   "nbconvert_exporter": "python",
   "pygments_lexer": "ipython3",
   "version": "3.9.13"
  }
 },
 "nbformat": 4,
 "nbformat_minor": 5
}
